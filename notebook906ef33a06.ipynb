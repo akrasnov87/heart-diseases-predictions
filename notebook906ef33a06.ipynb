{
 "cells": [
  {
   "cell_type": "code",
   "execution_count": null,
   "metadata": {
    "_cell_guid": "b1076dfc-b9ad-4769-8c92-a6c4dae69d19",
    "_uuid": "8f2839f25d086af736a60e9eeb907d3b93b6e0e5",
    "execution": {
     "iopub.execute_input": "2023-03-01T16:27:11.470711Z",
     "iopub.status.busy": "2023-03-01T16:27:11.470298Z",
     "iopub.status.idle": "2023-03-01T16:27:13.043543Z",
     "shell.execute_reply": "2023-03-01T16:27:13.042560Z",
     "shell.execute_reply.started": "2023-03-01T16:27:11.470636Z"
    }
   },
   "outputs": [],
   "source": [
    "# This Python 3 environment comes with many helpful analytics libraries installed\n",
    "# It is defined by the kaggle/python Docker image: https://github.com/kaggle/docker-python\n",
    "# For example, here's several helpful packages to load\n",
    "\n",
    "import numpy as np # linear algebra\n",
    "import pandas as pd # data processing, CSV file I/O (e.g. pd.read_csv)\n",
    "import matplotlib.pyplot as plt\n",
    "import seaborn as sbn\n",
    "from tqdm import tqdm\n",
    "\n",
    "from sklearn.model_selection import train_test_split\n",
    "from sklearn.metrics import f1_score, roc_auc_score, classification_report\n",
    "from sklearn.tree import DecisionTreeClassifier\n",
    "from sklearn.ensemble import RandomForestClassifier\n",
    "from sklearn.linear_model import LogisticRegression\n",
    "from sklearn.preprocessing import StandardScaler\n",
    "from joblib import dump\n",
    "\n",
    "# Input data files are available in the read-only \"../input/\" directory\n",
    "# For example, running this (by clicking run or pressing Shift+Enter) will list all files under the input directory\n",
    "\n",
    "import os\n",
    "for dirname, _, filenames in os.walk('/kaggle/input'):\n",
    "    for filename in filenames:\n",
    "        print(os.path.join(dirname, filename))\n",
    "\n",
    "# You can write up to 20GB to the current directory (/kaggle/working/) that gets preserved as output when you create a version using \"Save & Run All\" \n",
    "# You can also write temporary files to /kaggle/temp/, but they won't be saved outside of the current session"
   ]
  },
  {
   "cell_type": "markdown",
   "metadata": {},
   "source": [
    "# Прогнозирование сердечно-сосудистых заболеваний"
   ]
  },
  {
   "cell_type": "markdown",
   "metadata": {},
   "source": [
    "На основе предоставленных данных спрогнозировать риск сердечно-сосудистых заболеваний (ССЗ):\n",
    "* age - возраст (дней с рождения)\n",
    "* gender - пол\n",
    "* height - рост\n",
    "* weight - вес\n",
    "* ap_hi - верхнее давление\n",
    "* ap_lo - нижнее давление\n",
    "* cholesterol - холестерин\n",
    "* gluc - глюкоза\n",
    "* smoke - курит или нет\n",
    "* alco - злоупотребляет алкоголем\n",
    "* active - ведёт активных образ жизни\n",
    "* cardio - признак наличия сердечных заболеваний\n",
    "\n",
    "Метрика для оценки качества **ROC-AUC** по целевому признаку **cardio**"
   ]
  },
  {
   "cell_type": "code",
   "execution_count": null,
   "metadata": {
    "execution": {
     "iopub.execute_input": "2023-03-01T16:27:13.045475Z",
     "iopub.status.busy": "2023-03-01T16:27:13.045197Z",
     "iopub.status.idle": "2023-03-01T16:27:13.192813Z",
     "shell.execute_reply": "2023-03-01T16:27:13.191805Z",
     "shell.execute_reply.started": "2023-03-01T16:27:13.045451Z"
    }
   },
   "outputs": [],
   "source": [
    "df_train = pd.read_csv('train.csv',index_col=0)\n",
    "df_train['is_train'] = 1\n",
    "df_train.head()"
   ]
  },
  {
   "cell_type": "code",
   "execution_count": null,
   "metadata": {
    "execution": {
     "iopub.execute_input": "2023-03-01T16:27:13.194374Z",
     "iopub.status.busy": "2023-03-01T16:27:13.193973Z",
     "iopub.status.idle": "2023-03-01T16:27:13.235926Z",
     "shell.execute_reply": "2023-03-01T16:27:13.234666Z",
     "shell.execute_reply.started": "2023-03-01T16:27:13.194351Z"
    }
   },
   "outputs": [],
   "source": [
    "print(df_train.duplicated().sum())\n",
    "df_train = df_train.drop_duplicates()"
   ]
  },
  {
   "cell_type": "code",
   "execution_count": null,
   "metadata": {
    "execution": {
     "iopub.execute_input": "2023-03-01T16:27:13.238948Z",
     "iopub.status.busy": "2023-03-01T16:27:13.238377Z",
     "iopub.status.idle": "2023-03-01T16:27:13.301990Z",
     "shell.execute_reply": "2023-03-01T16:27:13.300557Z",
     "shell.execute_reply.started": "2023-03-01T16:27:13.238914Z"
    }
   },
   "outputs": [],
   "source": [
    "df_test = pd.read_csv('test.csv',index_col=0)\n",
    "df_test['is_train'] = 0\n",
    "df_test.head()"
   ]
  },
  {
   "cell_type": "code",
   "execution_count": null,
   "metadata": {
    "execution": {
     "iopub.execute_input": "2023-03-01T16:27:13.304044Z",
     "iopub.status.busy": "2023-03-01T16:27:13.303432Z",
     "iopub.status.idle": "2023-03-01T16:27:13.316764Z",
     "shell.execute_reply": "2023-03-01T16:27:13.315937Z",
     "shell.execute_reply.started": "2023-03-01T16:27:13.304010Z"
    }
   },
   "outputs": [],
   "source": [
    "# объеденим два файла и \"почистим\"\n",
    "df = pd.concat([df_train, df_test])"
   ]
  },
  {
   "cell_type": "code",
   "execution_count": null,
   "metadata": {
    "execution": {
     "iopub.execute_input": "2023-03-01T16:27:13.318682Z",
     "iopub.status.busy": "2023-03-01T16:27:13.318144Z",
     "iopub.status.idle": "2023-03-01T16:27:13.342704Z",
     "shell.execute_reply": "2023-03-01T16:27:13.340900Z",
     "shell.execute_reply.started": "2023-03-01T16:27:13.318650Z"
    }
   },
   "outputs": [],
   "source": [
    "df.info()"
   ]
  },
  {
   "cell_type": "code",
   "execution_count": null,
   "metadata": {
    "execution": {
     "iopub.execute_input": "2023-03-01T16:27:13.345348Z",
     "iopub.status.busy": "2023-03-01T16:27:13.344902Z",
     "iopub.status.idle": "2023-03-01T16:27:13.359083Z",
     "shell.execute_reply": "2023-03-01T16:27:13.357235Z",
     "shell.execute_reply.started": "2023-03-01T16:27:13.345299Z"
    }
   },
   "outputs": [],
   "source": [
    "df.isna().sum()"
   ]
  },
  {
   "cell_type": "code",
   "execution_count": null,
   "metadata": {
    "execution": {
     "iopub.execute_input": "2023-03-01T16:27:13.361875Z",
     "iopub.status.busy": "2023-03-01T16:27:13.361407Z",
     "iopub.status.idle": "2023-03-01T16:27:13.380322Z",
     "shell.execute_reply": "2023-03-01T16:27:13.379173Z",
     "shell.execute_reply.started": "2023-03-01T16:27:13.361837Z"
    }
   },
   "outputs": [],
   "source": [
    "# для себя переименую переменные, чтобы легче было отличать бинарные от других типов\n",
    "df = df.rename(columns={'gender': 'is_male', 'alco': 'is_alco', 'smoke': 'is_smoke', 'active': 'is_active', 'cardio': 'is_cardio'})"
   ]
  },
  {
   "cell_type": "code",
   "execution_count": null,
   "metadata": {
    "execution": {
     "iopub.execute_input": "2023-03-01T16:27:13.383131Z",
     "iopub.status.busy": "2023-03-01T16:27:13.382688Z",
     "iopub.status.idle": "2023-03-01T16:27:13.391249Z",
     "shell.execute_reply": "2023-03-01T16:27:13.389688Z",
     "shell.execute_reply.started": "2023-03-01T16:27:13.383098Z"
    }
   },
   "outputs": [],
   "source": [
    "df['is_male'] = df['is_male'].map({1: 0, 2: 1})"
   ]
  },
  {
   "cell_type": "code",
   "execution_count": null,
   "metadata": {
    "execution": {
     "iopub.execute_input": "2023-03-01T16:27:13.395293Z",
     "iopub.status.busy": "2023-03-01T16:27:13.394911Z",
     "iopub.status.idle": "2023-03-01T16:27:13.406614Z",
     "shell.execute_reply": "2023-03-01T16:27:13.405005Z",
     "shell.execute_reply.started": "2023-03-01T16:27:13.395251Z"
    }
   },
   "outputs": [],
   "source": [
    "df['age'] = df['age'] / 365.25\n",
    "df['age'] = df['age'].astype(int)"
   ]
  },
  {
   "cell_type": "markdown",
   "metadata": {},
   "source": [
    "## Анализ данных"
   ]
  },
  {
   "cell_type": "code",
   "execution_count": null,
   "metadata": {
    "execution": {
     "iopub.execute_input": "2023-03-01T16:27:13.425876Z",
     "iopub.status.busy": "2023-03-01T16:27:13.425592Z",
     "iopub.status.idle": "2023-03-01T16:27:13.500550Z",
     "shell.execute_reply": "2023-03-01T16:27:13.499583Z",
     "shell.execute_reply.started": "2023-03-01T16:27:13.425852Z"
    }
   },
   "outputs": [],
   "source": [
    "df.describe()"
   ]
  },
  {
   "cell_type": "markdown",
   "metadata": {},
   "source": [
    "Выявлены следующие замечания:\n",
    "* в значения роста и веса есть аномально большие и маленькие значения;\n",
    "* в показателях артериального давления, есть отрицательные значения и аномально большие значения."
   ]
  },
  {
   "cell_type": "markdown",
   "metadata": {},
   "source": [
    "### Аномалии и выбросы"
   ]
  },
  {
   "cell_type": "markdown",
   "metadata": {},
   "source": [
    "Нормализуем данные у данных полей:\n",
    "\n",
    "* height\n",
    "* weight\n",
    "* ap_hi\n",
    "* ap_lo"
   ]
  },
  {
   "cell_type": "markdown",
   "metadata": {},
   "source": [
    "#### height и weight"
   ]
  },
  {
   "cell_type": "markdown",
   "metadata": {},
   "source": [
    "Для анализа роста и веса добавим ИМТ (индекс массы тела)"
   ]
  },
  {
   "cell_type": "code",
   "execution_count": null,
   "metadata": {
    "execution": {
     "iopub.execute_input": "2023-03-01T16:27:13.501769Z",
     "iopub.status.busy": "2023-03-01T16:27:13.501472Z",
     "iopub.status.idle": "2023-03-01T16:27:13.752253Z",
     "shell.execute_reply": "2023-03-01T16:27:13.751497Z",
     "shell.execute_reply.started": "2023-03-01T16:27:13.501742Z"
    }
   },
   "outputs": [],
   "source": [
    "df.boxplot('height')\n",
    "plt.title('Разброс роста')\n",
    "plt.show()"
   ]
  },
  {
   "cell_type": "code",
   "execution_count": null,
   "metadata": {
    "execution": {
     "iopub.execute_input": "2023-03-01T16:27:13.753734Z",
     "iopub.status.busy": "2023-03-01T16:27:13.753347Z",
     "iopub.status.idle": "2023-03-01T16:27:14.046312Z",
     "shell.execute_reply": "2023-03-01T16:27:14.045579Z",
     "shell.execute_reply.started": "2023-03-01T16:27:13.753711Z"
    }
   },
   "outputs": [],
   "source": [
    "df['height'].hist(bins=100)\n",
    "plt.title('Распределение роста')\n",
    "plt.show()"
   ]
  },
  {
   "cell_type": "code",
   "execution_count": null,
   "metadata": {
    "execution": {
     "iopub.execute_input": "2023-03-01T16:27:14.047777Z",
     "iopub.status.busy": "2023-03-01T16:27:14.047383Z",
     "iopub.status.idle": "2023-03-01T16:27:14.070735Z",
     "shell.execute_reply": "2023-03-01T16:27:14.069431Z",
     "shell.execute_reply.started": "2023-03-01T16:27:14.047752Z"
    }
   },
   "outputs": [],
   "source": [
    "# удалим аномально высокий рост с весом 86\n",
    "big_height = df[df['height'] > 240]\n",
    "display(big_height.head())\n",
    "df.drop(big_height.index, inplace=True)\n",
    "del big_height"
   ]
  },
  {
   "cell_type": "code",
   "execution_count": null,
   "metadata": {
    "execution": {
     "iopub.execute_input": "2023-03-01T16:27:14.073731Z",
     "iopub.status.busy": "2023-03-01T16:27:14.072969Z",
     "iopub.status.idle": "2023-03-01T16:27:14.093179Z",
     "shell.execute_reply": "2023-03-01T16:27:14.091475Z",
     "shell.execute_reply.started": "2023-03-01T16:27:14.073662Z"
    }
   },
   "outputs": [],
   "source": [
    "# проверим тех у кого рост ниже 100\n",
    "little_height = df[df['height'] < 100]\n",
    "display(little_height.head(10))\n",
    "print(little_height.shape)"
   ]
  },
  {
   "cell_type": "markdown",
   "metadata": {},
   "source": [
    "Найдены слишком \"маленькие люди\", но с большим весом, возможно перепутали рост и вес. Исправим это."
   ]
  },
  {
   "cell_type": "code",
   "execution_count": null,
   "metadata": {
    "execution": {
     "iopub.execute_input": "2023-03-01T16:27:14.095036Z",
     "iopub.status.busy": "2023-03-01T16:27:14.094709Z",
     "iopub.status.idle": "2023-03-01T16:27:21.344250Z",
     "shell.execute_reply": "2023-03-01T16:27:21.343148Z",
     "shell.execute_reply.started": "2023-03-01T16:27:14.095008Z"
    }
   },
   "outputs": [],
   "source": [
    "def height_weight(row):\n",
    "    \"\"\"\n",
    "    Нормализуем значения в полях рост и вес\n",
    "    \n",
    "    Параметры:\n",
    "    ----------\n",
    "    row: Series\n",
    "    \n",
    "    Результат:\n",
    "    ----------\n",
    "    Обновлённая строка\n",
    "    \"\"\"\n",
    "    \n",
    "    if row['height'] < 100 and row['weight'] > 100:\n",
    "        height = row['weight']\n",
    "        weight = row['height']\n",
    "        \n",
    "        row['height'] = height\n",
    "        row['weight'] = weight\n",
    "        \n",
    "    return row\n",
    "\n",
    "df = df.apply(height_weight, axis=1)"
   ]
  },
  {
   "cell_type": "code",
   "execution_count": null,
   "metadata": {
    "execution": {
     "iopub.execute_input": "2023-03-01T16:27:21.346034Z",
     "iopub.status.busy": "2023-03-01T16:27:21.345557Z",
     "iopub.status.idle": "2023-03-01T16:27:21.368803Z",
     "shell.execute_reply": "2023-03-01T16:27:21.367315Z",
     "shell.execute_reply.started": "2023-03-01T16:27:21.346005Z"
    }
   },
   "outputs": [],
   "source": [
    "# проверяем замену\n",
    "df.loc[little_height.index].head()"
   ]
  },
  {
   "cell_type": "markdown",
   "metadata": {},
   "source": [
    "Аналогично проверим вес"
   ]
  },
  {
   "cell_type": "code",
   "execution_count": null,
   "metadata": {
    "execution": {
     "iopub.execute_input": "2023-03-01T16:27:21.371032Z",
     "iopub.status.busy": "2023-03-01T16:27:21.370666Z",
     "iopub.status.idle": "2023-03-01T16:27:21.566112Z",
     "shell.execute_reply": "2023-03-01T16:27:21.565213Z",
     "shell.execute_reply.started": "2023-03-01T16:27:21.371001Z"
    }
   },
   "outputs": [],
   "source": [
    "df.boxplot('weight')\n",
    "plt.title('Разброс веса')\n",
    "plt.show()"
   ]
  },
  {
   "cell_type": "code",
   "execution_count": null,
   "metadata": {
    "execution": {
     "iopub.execute_input": "2023-03-01T16:27:21.567911Z",
     "iopub.status.busy": "2023-03-01T16:27:21.567389Z",
     "iopub.status.idle": "2023-03-01T16:27:21.845951Z",
     "shell.execute_reply": "2023-03-01T16:27:21.844690Z",
     "shell.execute_reply.started": "2023-03-01T16:27:21.567877Z"
    }
   },
   "outputs": [],
   "source": [
    "df['weight'].hist(bins=100)\n",
    "plt.title('Распределение веса')\n",
    "plt.show()"
   ]
  },
  {
   "cell_type": "code",
   "execution_count": null,
   "metadata": {
    "execution": {
     "iopub.execute_input": "2023-03-01T16:27:21.848919Z",
     "iopub.status.busy": "2023-03-01T16:27:21.848562Z",
     "iopub.status.idle": "2023-03-01T16:27:21.870499Z",
     "shell.execute_reply": "2023-03-01T16:27:21.868934Z",
     "shell.execute_reply.started": "2023-03-01T16:27:21.848894Z"
    }
   },
   "outputs": [],
   "source": [
    "# проверим аномально полных и худых\n",
    "display(df[df['weight'] > 180])"
   ]
  },
  {
   "cell_type": "markdown",
   "metadata": {},
   "source": [
    "Показатели вполне допустимы"
   ]
  },
  {
   "cell_type": "code",
   "execution_count": null,
   "metadata": {
    "execution": {
     "iopub.execute_input": "2023-03-01T16:27:21.872294Z",
     "iopub.status.busy": "2023-03-01T16:27:21.871922Z",
     "iopub.status.idle": "2023-03-01T16:27:21.896203Z",
     "shell.execute_reply": "2023-03-01T16:27:21.894983Z",
     "shell.execute_reply.started": "2023-03-01T16:27:21.872212Z"
    }
   },
   "outputs": [],
   "source": [
    "little_weight = df[df['weight'] <= 30]\n",
    "display(little_weight.head())\n",
    "# удалить выбросы не получиться, но по пробуем привести их к среднему значению\n",
    "df.loc[little_weight.index, 'weight'] = None"
   ]
  },
  {
   "cell_type": "markdown",
   "metadata": {},
   "source": [
    "Заполним созданные пропуски"
   ]
  },
  {
   "cell_type": "code",
   "execution_count": null,
   "metadata": {
    "execution": {
     "iopub.execute_input": "2023-03-01T16:27:21.898178Z",
     "iopub.status.busy": "2023-03-01T16:27:21.897876Z",
     "iopub.status.idle": "2023-03-01T16:27:21.930063Z",
     "shell.execute_reply": "2023-03-01T16:27:21.928942Z",
     "shell.execute_reply.started": "2023-03-01T16:27:21.898148Z"
    }
   },
   "outputs": [],
   "source": [
    "# Заполним пропуск медианным начением\n",
    "df['weight'] = df['weight'].fillna(df.loc[df['is_train'] == 1, 'weight'].median())\n",
    "\n",
    "display(df.loc[little_weight.index].head())\n",
    "\n",
    "little_weight = None"
   ]
  },
  {
   "cell_type": "code",
   "execution_count": null,
   "metadata": {
    "execution": {
     "iopub.execute_input": "2023-03-01T16:27:21.931800Z",
     "iopub.status.busy": "2023-03-01T16:27:21.931250Z",
     "iopub.status.idle": "2023-03-01T16:27:21.942938Z",
     "shell.execute_reply": "2023-03-01T16:27:21.941462Z",
     "shell.execute_reply.started": "2023-03-01T16:27:21.931762Z"
    }
   },
   "outputs": [],
   "source": [
    "df.isna().sum()"
   ]
  },
  {
   "cell_type": "markdown",
   "metadata": {},
   "source": [
    "#### AP_HI и AP_LO - давление"
   ]
  },
  {
   "cell_type": "markdown",
   "metadata": {},
   "source": [
    "Есть аномально большие значения. Смертельным считается 260 на 100 и 60 на 40 будем исходить из этого"
   ]
  },
  {
   "cell_type": "code",
   "execution_count": null,
   "metadata": {
    "execution": {
     "iopub.execute_input": "2023-03-01T16:27:21.944961Z",
     "iopub.status.busy": "2023-03-01T16:27:21.944485Z",
     "iopub.status.idle": "2023-03-01T16:27:21.953199Z",
     "shell.execute_reply": "2023-03-01T16:27:21.951897Z",
     "shell.execute_reply.started": "2023-03-01T16:27:21.944903Z"
    }
   },
   "outputs": [],
   "source": [
    "# начнём с отрицательных значений\n",
    "df['ap_hi'] = df['ap_hi'].abs()\n",
    "df['ap_lo'] = df['ap_lo'].abs()"
   ]
  },
  {
   "cell_type": "code",
   "execution_count": null,
   "metadata": {
    "execution": {
     "iopub.execute_input": "2023-03-01T16:27:21.955159Z",
     "iopub.status.busy": "2023-03-01T16:27:21.954795Z",
     "iopub.status.idle": "2023-03-01T16:27:22.140882Z",
     "shell.execute_reply": "2023-03-01T16:27:22.139694Z",
     "shell.execute_reply.started": "2023-03-01T16:27:21.955133Z"
    }
   },
   "outputs": [],
   "source": [
    "df.boxplot('ap_hi')\n",
    "plt.title('Верхнее значение давления')\n",
    "plt.show()"
   ]
  },
  {
   "cell_type": "code",
   "execution_count": null,
   "metadata": {
    "execution": {
     "iopub.execute_input": "2023-03-01T16:27:22.142934Z",
     "iopub.status.busy": "2023-03-01T16:27:22.142583Z",
     "iopub.status.idle": "2023-03-01T16:27:22.411003Z",
     "shell.execute_reply": "2023-03-01T16:27:22.409473Z",
     "shell.execute_reply.started": "2023-03-01T16:27:22.142893Z"
    }
   },
   "outputs": [],
   "source": [
    "df['ap_hi'].hist(bins=100)\n",
    "plt.title('Верхнее значение давления')\n",
    "plt.show()"
   ]
  },
  {
   "cell_type": "code",
   "execution_count": null,
   "metadata": {
    "execution": {
     "iopub.execute_input": "2023-03-01T16:27:22.419230Z",
     "iopub.status.busy": "2023-03-01T16:27:22.418890Z",
     "iopub.status.idle": "2023-03-01T16:27:22.445615Z",
     "shell.execute_reply": "2023-03-01T16:27:22.444193Z",
     "shell.execute_reply.started": "2023-03-01T16:27:22.419203Z"
    }
   },
   "outputs": [],
   "source": [
    "# разбираемся с аномально высокими значениями\n",
    "big_app_hi = df[df['ap_hi'] > 800]\n",
    "display(big_app_hi.sort_values('ap_hi').head())\n",
    "print(big_app_hi.shape)"
   ]
  },
  {
   "cell_type": "code",
   "execution_count": null,
   "metadata": {
    "execution": {
     "iopub.execute_input": "2023-03-01T16:27:22.447645Z",
     "iopub.status.busy": "2023-03-01T16:27:22.447102Z",
     "iopub.status.idle": "2023-03-01T16:27:29.598739Z",
     "shell.execute_reply": "2023-03-01T16:27:29.597137Z",
     "shell.execute_reply.started": "2023-03-01T16:27:22.447610Z"
    }
   },
   "outputs": [],
   "source": [
    "def ap_hi(row):\n",
    "    \"\"\"\n",
    "    Нормализуем значения в давлении\n",
    "    \n",
    "    Параметры:\n",
    "    ----------\n",
    "    row: Series\n",
    "    \n",
    "    Результат:\n",
    "    ----------\n",
    "    Обновлённая строка\n",
    "    \"\"\"\n",
    "    \n",
    "    if row['ap_hi'] > 250 and row['ap_hi'] <= 2000:\n",
    "        ap_hi = int(row['ap_hi'] / 10)\n",
    "        row['ap_hi'] = ap_hi\n",
    "    elif row['ap_hi'] > 2000:\n",
    "        ap_hi = int(row['ap_hi'] / 100)\n",
    "        row['ap_hi'] = ap_hi\n",
    "        \n",
    "    return row\n",
    "\n",
    "df = df.apply(ap_hi, axis=1)"
   ]
  },
  {
   "cell_type": "code",
   "execution_count": null,
   "metadata": {
    "execution": {
     "iopub.execute_input": "2023-03-01T16:27:29.600560Z",
     "iopub.status.busy": "2023-03-01T16:27:29.600252Z",
     "iopub.status.idle": "2023-03-01T16:27:29.605882Z",
     "shell.execute_reply": "2023-03-01T16:27:29.604914Z",
     "shell.execute_reply.started": "2023-03-01T16:27:29.600517Z"
    }
   },
   "outputs": [],
   "source": [
    "df.loc[big_app_hi.index].head()\n",
    "big_app_hi = None"
   ]
  },
  {
   "cell_type": "code",
   "execution_count": null,
   "metadata": {
    "execution": {
     "iopub.execute_input": "2023-03-01T16:27:29.607617Z",
     "iopub.status.busy": "2023-03-01T16:27:29.607258Z",
     "iopub.status.idle": "2023-03-01T16:27:29.788331Z",
     "shell.execute_reply": "2023-03-01T16:27:29.787317Z",
     "shell.execute_reply.started": "2023-03-01T16:27:29.607587Z"
    }
   },
   "outputs": [],
   "source": [
    "df.boxplot('ap_lo')\n",
    "plt.title('Нижнее значение давления')\n",
    "plt.show()"
   ]
  },
  {
   "cell_type": "code",
   "execution_count": null,
   "metadata": {
    "execution": {
     "iopub.execute_input": "2023-03-01T16:27:29.789884Z",
     "iopub.status.busy": "2023-03-01T16:27:29.789553Z",
     "iopub.status.idle": "2023-03-01T16:27:30.077629Z",
     "shell.execute_reply": "2023-03-01T16:27:30.075820Z",
     "shell.execute_reply.started": "2023-03-01T16:27:29.789854Z"
    }
   },
   "outputs": [],
   "source": [
    "df['ap_lo'].hist(bins=100)\n",
    "plt.title('Нижнее значение давления')\n",
    "plt.show()"
   ]
  },
  {
   "cell_type": "code",
   "execution_count": null,
   "metadata": {
    "execution": {
     "iopub.execute_input": "2023-03-01T16:27:30.079779Z",
     "iopub.status.busy": "2023-03-01T16:27:30.079336Z",
     "iopub.status.idle": "2023-03-01T16:27:30.106398Z",
     "shell.execute_reply": "2023-03-01T16:27:30.105227Z",
     "shell.execute_reply.started": "2023-03-01T16:27:30.079746Z"
    }
   },
   "outputs": [],
   "source": [
    "# разбираемся с аномально высокими значениями\n",
    "big_app_lo = df[df['ap_lo'] > 500]\n",
    "display(big_app_lo.sort_values('ap_lo').head())\n",
    "print(big_app_lo.shape)"
   ]
  },
  {
   "cell_type": "code",
   "execution_count": null,
   "metadata": {
    "execution": {
     "iopub.execute_input": "2023-03-01T16:27:30.108768Z",
     "iopub.status.busy": "2023-03-01T16:27:30.108194Z",
     "iopub.status.idle": "2023-03-01T16:27:36.745939Z",
     "shell.execute_reply": "2023-03-01T16:27:36.744881Z",
     "shell.execute_reply.started": "2023-03-01T16:27:30.108737Z"
    }
   },
   "outputs": [],
   "source": [
    "def ap_lo(row):\n",
    "    \"\"\"\n",
    "    Нормализуем значения в давлении\n",
    "    \n",
    "    Параметры:\n",
    "    ----------\n",
    "    row: Series\n",
    "    \n",
    "    Результат:\n",
    "    ----------\n",
    "    Обновлённая строка\n",
    "    \"\"\"\n",
    "    \n",
    "    if row['ap_lo'] > 500 and row['ap_lo'] <= 2000:\n",
    "        ap_lo = int(row['ap_lo'] / 10)\n",
    "        row['ap_lo'] = ap_lo\n",
    "    elif row['ap_lo'] > 2000:\n",
    "        ap_lo = int(row['ap_lo'] / 100)\n",
    "        row['ap_lo'] = ap_lo\n",
    "        \n",
    "    return row\n",
    "\n",
    "df = df.apply(ap_lo, axis=1)"
   ]
  },
  {
   "cell_type": "code",
   "execution_count": null,
   "metadata": {
    "execution": {
     "iopub.execute_input": "2023-03-01T16:27:36.748173Z",
     "iopub.status.busy": "2023-03-01T16:27:36.747461Z",
     "iopub.status.idle": "2023-03-01T16:27:36.769081Z",
     "shell.execute_reply": "2023-03-01T16:27:36.767325Z",
     "shell.execute_reply.started": "2023-03-01T16:27:36.748140Z"
    }
   },
   "outputs": [],
   "source": [
    "display(df.loc[big_app_lo.index].head())\n",
    "big_app_lo = None"
   ]
  },
  {
   "cell_type": "code",
   "execution_count": null,
   "metadata": {
    "execution": {
     "iopub.execute_input": "2023-03-01T16:27:36.771209Z",
     "iopub.status.busy": "2023-03-01T16:27:36.770772Z",
     "iopub.status.idle": "2023-03-01T16:27:36.797891Z",
     "shell.execute_reply": "2023-03-01T16:27:36.797100Z",
     "shell.execute_reply.started": "2023-03-01T16:27:36.771170Z"
    }
   },
   "outputs": [],
   "source": [
    "ap_warn = df[df['ap_hi'] < df['ap_lo']]\n",
    "# теперь разберёмся с ситуацией, когда ap_hi < ap_lo\n",
    "display(ap_warn.head())\n",
    "print(ap_warn.shape)"
   ]
  },
  {
   "cell_type": "code",
   "execution_count": null,
   "metadata": {
    "execution": {
     "iopub.execute_input": "2023-03-01T16:27:36.799777Z",
     "iopub.status.busy": "2023-03-01T16:27:36.799209Z",
     "iopub.status.idle": "2023-03-01T16:27:44.032225Z",
     "shell.execute_reply": "2023-03-01T16:27:44.031038Z",
     "shell.execute_reply.started": "2023-03-01T16:27:36.799743Z"
    }
   },
   "outputs": [],
   "source": [
    "def ap_mv(row):\n",
    "    \"\"\"\n",
    "    Поменяем местами давление\n",
    "    \n",
    "    Параметры:\n",
    "    ----------\n",
    "    row: Series\n",
    "    \n",
    "    Результат:\n",
    "    ----------\n",
    "    Обновлённая строка\n",
    "    \"\"\"\n",
    "    \n",
    "    if row['ap_hi'] < row['ap_lo'] and row['ap_lo'] > 90:\n",
    "        ap_lo = row['ap_lo']\n",
    "        ap_hi = row['ap_hi']\n",
    "        \n",
    "        row['ap_hi'] = ap_lo\n",
    "        row['ap_lo'] = ap_hi\n",
    "        \n",
    "    return row\n",
    "\n",
    "df = df.apply(ap_mv, axis=1)"
   ]
  },
  {
   "cell_type": "code",
   "execution_count": null,
   "metadata": {
    "execution": {
     "iopub.execute_input": "2023-03-01T16:27:44.033932Z",
     "iopub.status.busy": "2023-03-01T16:27:44.033630Z",
     "iopub.status.idle": "2023-03-01T16:27:44.056984Z",
     "shell.execute_reply": "2023-03-01T16:27:44.055180Z",
     "shell.execute_reply.started": "2023-03-01T16:27:44.033907Z"
    }
   },
   "outputs": [],
   "source": [
    "display(df.loc[ap_warn.index].head())\n",
    "ap_warn = None"
   ]
  },
  {
   "cell_type": "code",
   "execution_count": null,
   "metadata": {
    "execution": {
     "iopub.execute_input": "2023-03-01T16:27:44.059258Z",
     "iopub.status.busy": "2023-03-01T16:27:44.058764Z",
     "iopub.status.idle": "2023-03-01T16:27:44.092168Z",
     "shell.execute_reply": "2023-03-01T16:27:44.091168Z",
     "shell.execute_reply.started": "2023-03-01T16:27:44.059220Z"
    }
   },
   "outputs": [],
   "source": [
    "# теперь разберёмся с предтрупными значениями\n",
    "dead_ap = df[(df['ap_hi'] < 60) | (df['ap_lo'] < 40)]\n",
    "display(dead_ap.sort_values('ap_hi').head())\n",
    "\n",
    "print(dead_ap.shape)"
   ]
  },
  {
   "cell_type": "code",
   "execution_count": null,
   "metadata": {
    "execution": {
     "iopub.execute_input": "2023-03-01T16:27:44.093322Z",
     "iopub.status.busy": "2023-03-01T16:27:44.093047Z",
     "iopub.status.idle": "2023-03-01T16:27:44.126320Z",
     "shell.execute_reply": "2023-03-01T16:27:44.125085Z",
     "shell.execute_reply.started": "2023-03-01T16:27:44.093296Z"
    }
   },
   "outputs": [],
   "source": [
    "# применим самый простой способ\n",
    "df.loc[dead_ap.index, 'ap_hi'] = None\n",
    "df.loc[dead_ap.index, 'ap_lo'] = None\n",
    "\n",
    "df['ap_hi'] = df['ap_hi'].fillna(df.loc[df['is_train'] == 1, 'ap_hi'].median())\n",
    "df['ap_lo'] = df['ap_lo'].fillna(df.loc[df['is_train'] == 1, 'ap_lo'].median())\n",
    "\n",
    "display(df.loc[dead_ap.index].head())\n",
    "\n",
    "dead_ap = None"
   ]
  },
  {
   "cell_type": "code",
   "execution_count": null,
   "metadata": {
    "execution": {
     "iopub.execute_input": "2023-03-01T16:27:44.127907Z",
     "iopub.status.busy": "2023-03-01T16:27:44.127610Z",
     "iopub.status.idle": "2023-03-01T16:27:44.138266Z",
     "shell.execute_reply": "2023-03-01T16:27:44.136584Z",
     "shell.execute_reply.started": "2023-03-01T16:27:44.127884Z"
    }
   },
   "outputs": [],
   "source": [
    "df.isna().sum()"
   ]
  },
  {
   "cell_type": "markdown",
   "metadata": {},
   "source": [
    "Нормализация данных завершена, приступим графическому анализу"
   ]
  },
  {
   "cell_type": "markdown",
   "metadata": {},
   "source": [
    "### Анализ"
   ]
  },
  {
   "cell_type": "code",
   "execution_count": null,
   "metadata": {
    "execution": {
     "iopub.execute_input": "2023-03-01T16:27:44.140754Z",
     "iopub.status.busy": "2023-03-01T16:27:44.140371Z",
     "iopub.status.idle": "2023-03-01T16:27:44.198572Z",
     "shell.execute_reply": "2023-03-01T16:27:44.197066Z",
     "shell.execute_reply.started": "2023-03-01T16:27:44.140728Z"
    }
   },
   "outputs": [],
   "source": [
    "df.corr()"
   ]
  },
  {
   "cell_type": "code",
   "execution_count": null,
   "metadata": {
    "execution": {
     "iopub.execute_input": "2023-03-01T16:27:44.200466Z",
     "iopub.status.busy": "2023-03-01T16:27:44.200074Z",
     "iopub.status.idle": "2023-03-01T16:27:44.223429Z",
     "shell.execute_reply": "2023-03-01T16:27:44.221248Z",
     "shell.execute_reply.started": "2023-03-01T16:27:44.200427Z"
    }
   },
   "outputs": [],
   "source": [
    "df['age'] = df['age'].astype('int8')\n",
    "df['is_male'] = df['is_male'].astype('int8')\n",
    "df['height'] = df['height'].astype('int16')\n",
    "df['weight'] = df['weight'].astype('int16')\n",
    "df['ap_hi'] = df['ap_hi'].astype('int16')\n",
    "df['ap_lo'] = df['ap_lo'].astype('int16')\n",
    "df['cholesterol'] = df['cholesterol'].astype('int8')\n",
    "df['gluc'] = df['gluc'].astype('int8')\n",
    "df['is_smoke'] = df['is_smoke'].astype('int8')\n",
    "df['is_alco'] = df['is_alco'].astype('int8')\n",
    "df['is_cardio'] = df['is_cardio'].astype('float32')\n",
    "df['is_train'] = df['is_train'].astype('int8')\n",
    "df['is_active'] = df['is_active'].astype('int8')"
   ]
  },
  {
   "cell_type": "code",
   "execution_count": null,
   "metadata": {
    "execution": {
     "iopub.execute_input": "2023-03-01T16:27:44.225593Z",
     "iopub.status.busy": "2023-03-01T16:27:44.225135Z",
     "iopub.status.idle": "2023-03-01T16:27:44.299266Z",
     "shell.execute_reply": "2023-03-01T16:27:44.298090Z",
     "shell.execute_reply.started": "2023-03-01T16:27:44.225551Z"
    }
   },
   "outputs": [],
   "source": [
    "df.describe()"
   ]
  },
  {
   "cell_type": "code",
   "execution_count": null,
   "metadata": {
    "execution": {
     "iopub.execute_input": "2023-03-01T16:27:44.336173Z",
     "iopub.status.busy": "2023-03-01T16:27:44.335634Z",
     "iopub.status.idle": "2023-03-01T16:27:44.352103Z",
     "shell.execute_reply": "2023-03-01T16:27:44.350850Z",
     "shell.execute_reply.started": "2023-03-01T16:27:44.336088Z"
    }
   },
   "outputs": [],
   "source": [
    "# для анализа введём новую колонку is_healthy - противоположность is_cardio\n",
    "df.loc[df['is_cardio'] == 1.0, 'is_healthy'] = 0.0\n",
    "df.loc[df['is_cardio'] == 0.0, 'is_healthy'] = 1.0\n",
    "df['is_healthy'] = df['is_healthy'].astype('float32')"
   ]
  },
  {
   "cell_type": "code",
   "execution_count": null,
   "metadata": {
    "execution": {
     "iopub.execute_input": "2023-03-01T16:27:44.301768Z",
     "iopub.status.busy": "2023-03-01T16:27:44.301386Z",
     "iopub.status.idle": "2023-03-01T16:27:44.317649Z",
     "shell.execute_reply": "2023-03-01T16:27:44.316181Z",
     "shell.execute_reply.started": "2023-03-01T16:27:44.301742Z"
    }
   },
   "outputs": [],
   "source": [
    "df.info()"
   ]
  },
  {
   "cell_type": "code",
   "execution_count": null,
   "metadata": {
    "execution": {
     "iopub.execute_input": "2023-03-01T16:27:44.322357Z",
     "iopub.status.busy": "2023-03-01T16:27:44.319078Z",
     "iopub.status.idle": "2023-03-01T16:27:44.333667Z",
     "shell.execute_reply": "2023-03-01T16:27:44.332041Z",
     "shell.execute_reply.started": "2023-03-01T16:27:44.322316Z"
    }
   },
   "outputs": [],
   "source": [
    "# создадим вспомагательные функции для построения графиков\n",
    "def graf_hist(df, column, column_title='', figsize=(20,5)):\n",
    "    \"\"\"\n",
    "    Построение гистограммы распределения\n",
    "    \n",
    "    Параметры:\n",
    "    ----------\n",
    "    df: DataFrame - данные\n",
    "    column: String - колонка для анализа\n",
    "    column_title: String - пользовательское имя колонки\n",
    "    figsize: turtle - размер\n",
    "    \"\"\"\n",
    "    fig = plt.figure(figsize = figsize)\n",
    "    ax = fig.gca()\n",
    "    \n",
    "    if column_title == '':\n",
    "        column_title = column\n",
    "    df[column].hist(bins=100, ax=ax)\n",
    "    \n",
    "    plt.title(f'Распределение столбца - {column_title}')\n",
    "    plt.ylabel('Количество')\n",
    "    plt.xlabel(column_title)\n",
    "    plt.xticks(rotation=90)\n",
    "    plt.show()\n",
    "    \n",
    "def graf_bar(df, column, column_title=''):\n",
    "    \"\"\"\n",
    "    Построение графика для определения распределения пола в долях\n",
    "    \n",
    "    Параметры:\n",
    "    ----------\n",
    "    df: DataFrame - данные\n",
    "    column: String - колонка для анализа\n",
    "    column_title: String - пользовательское имя колонки\n",
    "    \"\"\"\n",
    "    if column_title == '':\n",
    "        column_title = column\n",
    "        \n",
    "    fig = plt.figure(figsize = (20,5))\n",
    "    ax = fig.gca()\n",
    "    df.pivot_table(index=[column], values=['is_healthy', 'is_cardio'], aggfunc='sum') \\\n",
    "        .apply(lambda x: x * 100 / sum(x), axis=1) \\\n",
    "        .plot(kind=\"bar\", ax=ax, stacked=True, grid=True).legend(\n",
    "            loc='upper center', ncol=3, title=\"Признак здоровья\"\n",
    "        )\n",
    "\n",
    "    plt.title(f'Распределение столбца - {column_title}')\n",
    "    plt.ylabel('Доля')\n",
    "    plt.xlabel(column_title)\n",
    "    plt.xticks(rotation=90)\n",
    "    plt.show()"
   ]
  },
  {
   "cell_type": "markdown",
   "metadata": {},
   "source": [
    "#### age"
   ]
  },
  {
   "cell_type": "code",
   "execution_count": null,
   "metadata": {
    "execution": {
     "iopub.execute_input": "2023-03-01T16:27:44.355187Z",
     "iopub.status.busy": "2023-03-01T16:27:44.354645Z",
     "iopub.status.idle": "2023-03-01T16:27:44.374796Z",
     "shell.execute_reply": "2023-03-01T16:27:44.373606Z",
     "shell.execute_reply.started": "2023-03-01T16:27:44.355157Z"
    }
   },
   "outputs": [],
   "source": [
    "df.isna().sum()"
   ]
  },
  {
   "cell_type": "code",
   "execution_count": null,
   "metadata": {
    "execution": {
     "iopub.execute_input": "2023-03-01T16:27:44.377485Z",
     "iopub.status.busy": "2023-03-01T16:27:44.376458Z",
     "iopub.status.idle": "2023-03-01T16:27:44.715567Z",
     "shell.execute_reply": "2023-03-01T16:27:44.714421Z",
     "shell.execute_reply.started": "2023-03-01T16:27:44.377447Z"
    }
   },
   "outputs": [],
   "source": [
    "graf_hist(df, 'age', 'Возрастная группа')"
   ]
  },
  {
   "cell_type": "code",
   "execution_count": null,
   "metadata": {
    "execution": {
     "iopub.execute_input": "2023-03-01T16:27:44.717085Z",
     "iopub.status.busy": "2023-03-01T16:27:44.716773Z",
     "iopub.status.idle": "2023-03-01T16:27:45.088722Z",
     "shell.execute_reply": "2023-03-01T16:27:45.087520Z",
     "shell.execute_reply.started": "2023-03-01T16:27:44.717056Z"
    }
   },
   "outputs": [],
   "source": [
    "graf_bar(df, 'age', 'Возрастная группа')"
   ]
  },
  {
   "cell_type": "markdown",
   "metadata": {},
   "source": [
    "Удалять выбросы с возрастом до 35 лет не будем, т. к. судя по графику (столбики 24 и 25) они присутствуют и в тестовой выборки."
   ]
  },
  {
   "cell_type": "markdown",
   "metadata": {},
   "source": [
    "**Вывод**: основную доля людей находится в возрасте от 40 до 65. Чем выше возраст, тем выше риск заболевания ССЗ."
   ]
  },
  {
   "cell_type": "markdown",
   "metadata": {},
   "source": [
    "#### Давление"
   ]
  },
  {
   "cell_type": "code",
   "execution_count": null,
   "metadata": {
    "execution": {
     "iopub.execute_input": "2023-03-01T16:27:45.090195Z",
     "iopub.status.busy": "2023-03-01T16:27:45.089927Z",
     "iopub.status.idle": "2023-03-01T16:27:46.832476Z",
     "shell.execute_reply": "2023-03-01T16:27:46.831059Z",
     "shell.execute_reply.started": "2023-03-01T16:27:45.090170Z"
    }
   },
   "outputs": [],
   "source": [
    "df.boxplot('ap_hi')\n",
    "plt.title('Верхнее давление')\n",
    "plt.show()\n",
    "\n",
    "graf_hist(df, 'ap_hi', 'Верхнее давление')\n",
    "graf_bar(df, 'ap_hi', 'Верхнее давление')"
   ]
  },
  {
   "cell_type": "markdown",
   "metadata": {},
   "source": [
    "**Вывод**: чем давление выше, тем риск ССЗ выше"
   ]
  },
  {
   "cell_type": "code",
   "execution_count": null,
   "metadata": {
    "execution": {
     "iopub.execute_input": "2023-03-01T16:27:46.834673Z",
     "iopub.status.busy": "2023-03-01T16:27:46.834324Z",
     "iopub.status.idle": "2023-03-01T16:27:48.316589Z",
     "shell.execute_reply": "2023-03-01T16:27:48.315335Z",
     "shell.execute_reply.started": "2023-03-01T16:27:46.834643Z"
    }
   },
   "outputs": [],
   "source": [
    "df.boxplot('ap_lo')\n",
    "plt.title('Нижнее давление')\n",
    "plt.show()\n",
    "\n",
    "\n",
    "graf_hist(df, 'ap_lo', 'Нижнее давление')\n",
    "graf_bar(df, 'ap_lo', 'Нижнее давление')"
   ]
  },
  {
   "cell_type": "markdown",
   "metadata": {},
   "source": [
    "**Вывод**: чем давление выше, тем риск ССЗ выше, и наоборот при  давлении ниже 60 риск повышается."
   ]
  },
  {
   "cell_type": "markdown",
   "metadata": {},
   "source": [
    "#### is_male"
   ]
  },
  {
   "cell_type": "code",
   "execution_count": null,
   "metadata": {
    "execution": {
     "iopub.execute_input": "2023-03-01T16:27:48.318105Z",
     "iopub.status.busy": "2023-03-01T16:27:48.317800Z",
     "iopub.status.idle": "2023-03-01T16:27:48.884465Z",
     "shell.execute_reply": "2023-03-01T16:27:48.883624Z",
     "shell.execute_reply.started": "2023-03-01T16:27:48.318076Z"
    }
   },
   "outputs": [],
   "source": [
    "graf_hist(df, 'is_male', 'Пол')\n",
    "graf_bar(df, 'is_male', 'Пол')"
   ]
  },
  {
   "cell_type": "markdown",
   "metadata": {},
   "source": [
    "**Вывод**: пол со значением 0 больше, чем 1. Риск заболеваний ССЗ одинаковый. При обучении не будем учитывать этот признак"
   ]
  },
  {
   "cell_type": "markdown",
   "metadata": {},
   "source": [
    "#### height и weight"
   ]
  },
  {
   "cell_type": "code",
   "execution_count": null,
   "metadata": {
    "execution": {
     "iopub.execute_input": "2023-03-01T16:27:48.886701Z",
     "iopub.status.busy": "2023-03-01T16:27:48.885744Z",
     "iopub.status.idle": "2023-03-01T16:27:50.467260Z",
     "shell.execute_reply": "2023-03-01T16:27:50.466337Z",
     "shell.execute_reply.started": "2023-03-01T16:27:48.886662Z"
    }
   },
   "outputs": [],
   "source": [
    "graf_hist(df, 'height', 'Рост')\n",
    "graf_bar(df, 'height', 'Рост')"
   ]
  },
  {
   "cell_type": "markdown",
   "metadata": {},
   "source": [
    "**Вывод**: Рост незначительно влияет на целевой признак. При этом при аномально низких и высоких показателей роста, риск ССЗ повышается."
   ]
  },
  {
   "cell_type": "code",
   "execution_count": null,
   "metadata": {
    "execution": {
     "iopub.execute_input": "2023-03-01T16:27:50.468816Z",
     "iopub.status.busy": "2023-03-01T16:27:50.468461Z",
     "iopub.status.idle": "2023-03-01T16:27:52.285433Z",
     "shell.execute_reply": "2023-03-01T16:27:52.284435Z",
     "shell.execute_reply.started": "2023-03-01T16:27:50.468785Z"
    }
   },
   "outputs": [],
   "source": [
    "graf_hist(df, 'weight', 'Вес')\n",
    "graf_bar(df, 'weight', 'Вес')"
   ]
  },
  {
   "cell_type": "markdown",
   "metadata": {},
   "source": [
    "**Вывод**: если рост отклоняется от среднего, то риск выше. Если вес большой, то риск ССЗ тоже высок."
   ]
  },
  {
   "cell_type": "markdown",
   "metadata": {},
   "source": [
    "#### cholesterol"
   ]
  },
  {
   "cell_type": "code",
   "execution_count": null,
   "metadata": {
    "execution": {
     "iopub.execute_input": "2023-03-01T16:27:52.287879Z",
     "iopub.status.busy": "2023-03-01T16:27:52.286780Z",
     "iopub.status.idle": "2023-03-01T16:27:52.863243Z",
     "shell.execute_reply": "2023-03-01T16:27:52.862173Z",
     "shell.execute_reply.started": "2023-03-01T16:27:52.287839Z"
    }
   },
   "outputs": [],
   "source": [
    "graf_hist(df, 'cholesterol', 'Холестерин')\n",
    "graf_bar(df, 'cholesterol', 'Холестерин')"
   ]
  },
  {
   "cell_type": "markdown",
   "metadata": {},
   "source": [
    "**Вывод**: чем выше холестерин, тем риск ССЗ выше."
   ]
  },
  {
   "cell_type": "markdown",
   "metadata": {},
   "source": [
    "#### gluc"
   ]
  },
  {
   "cell_type": "code",
   "execution_count": null,
   "metadata": {
    "execution": {
     "iopub.execute_input": "2023-03-01T16:27:52.865457Z",
     "iopub.status.busy": "2023-03-01T16:27:52.865048Z",
     "iopub.status.idle": "2023-03-01T16:27:53.440554Z",
     "shell.execute_reply": "2023-03-01T16:27:53.439350Z",
     "shell.execute_reply.started": "2023-03-01T16:27:52.865421Z"
    }
   },
   "outputs": [],
   "source": [
    "graf_hist(df, 'gluc', 'Глюкоза')\n",
    "graf_bar(df, 'gluc', 'Глюкоза')"
   ]
  },
  {
   "cell_type": "markdown",
   "metadata": {},
   "source": [
    "**Вывод**: чем выше глюкоза, тем риск ССЗ выше."
   ]
  },
  {
   "cell_type": "markdown",
   "metadata": {},
   "source": [
    "#### smoke"
   ]
  },
  {
   "cell_type": "code",
   "execution_count": null,
   "metadata": {
    "execution": {
     "iopub.execute_input": "2023-03-01T16:27:53.442282Z",
     "iopub.status.busy": "2023-03-01T16:27:53.441977Z",
     "iopub.status.idle": "2023-03-01T16:27:53.967033Z",
     "shell.execute_reply": "2023-03-01T16:27:53.966382Z",
     "shell.execute_reply.started": "2023-03-01T16:27:53.442256Z"
    }
   },
   "outputs": [],
   "source": [
    "graf_hist(df, 'is_smoke', 'Курит')\n",
    "graf_bar(df, 'is_smoke', 'Курит')"
   ]
  },
  {
   "cell_type": "markdown",
   "metadata": {},
   "source": [
    "**Вывод**: странно, но курение не повышает риск ССЗ"
   ]
  },
  {
   "cell_type": "markdown",
   "metadata": {},
   "source": [
    "#### is_alco"
   ]
  },
  {
   "cell_type": "code",
   "execution_count": null,
   "metadata": {
    "execution": {
     "iopub.execute_input": "2023-03-01T16:27:53.969257Z",
     "iopub.status.busy": "2023-03-01T16:27:53.968166Z",
     "iopub.status.idle": "2023-03-01T16:27:54.495029Z",
     "shell.execute_reply": "2023-03-01T16:27:54.493720Z",
     "shell.execute_reply.started": "2023-03-01T16:27:53.969197Z"
    }
   },
   "outputs": [],
   "source": [
    "graf_hist(df, 'is_alco', 'Злоупотребляет алкоголем')\n",
    "graf_bar(df, 'is_alco', 'Злоупотребляет алкоголем')"
   ]
  },
  {
   "cell_type": "markdown",
   "metadata": {},
   "source": [
    "**Вывод**: аналогично с курением"
   ]
  },
  {
   "cell_type": "markdown",
   "metadata": {},
   "source": [
    "#### is_active"
   ]
  },
  {
   "cell_type": "code",
   "execution_count": null,
   "metadata": {
    "execution": {
     "iopub.execute_input": "2023-03-01T16:27:54.496564Z",
     "iopub.status.busy": "2023-03-01T16:27:54.496258Z",
     "iopub.status.idle": "2023-03-01T16:27:55.037394Z",
     "shell.execute_reply": "2023-03-01T16:27:55.036625Z",
     "shell.execute_reply.started": "2023-03-01T16:27:54.496516Z"
    }
   },
   "outputs": [],
   "source": [
    "graf_hist(df, 'is_active', 'Ведёт активных образ жизни')\n",
    "graf_bar(df, 'is_active', 'Ведёт активных образ жизни')"
   ]
  },
  {
   "cell_type": "markdown",
   "metadata": {},
   "source": [
    "**Вывод**: занятие спортом незначительно снижает риск ССЗ"
   ]
  },
  {
   "cell_type": "markdown",
   "metadata": {},
   "source": [
    "#### is_cardio"
   ]
  },
  {
   "cell_type": "code",
   "execution_count": null,
   "metadata": {
    "execution": {
     "iopub.execute_input": "2023-03-01T16:27:55.038744Z",
     "iopub.status.busy": "2023-03-01T16:27:55.038430Z",
     "iopub.status.idle": "2023-03-01T16:27:55.382344Z",
     "shell.execute_reply": "2023-03-01T16:27:55.381149Z",
     "shell.execute_reply.started": "2023-03-01T16:27:55.038716Z"
    }
   },
   "outputs": [],
   "source": [
    "graf_hist(df, 'is_cardio', 'Есть ССЗ')"
   ]
  },
  {
   "cell_type": "markdown",
   "metadata": {},
   "source": [
    "**Вывод**: дисбаланса нет"
   ]
  },
  {
   "cell_type": "markdown",
   "metadata": {},
   "source": [
    "### ML"
   ]
  },
  {
   "cell_type": "markdown",
   "metadata": {},
   "source": [
    "Построим три модели и найдём лучшую:\n",
    "\n",
    "* DecisionTreeClassifier - дерево решений\n",
    "* RandomForestClassifier - случайный лес\n",
    "* LogisticRegression - логистическая регрессия"
   ]
  },
  {
   "cell_type": "code",
   "execution_count": null,
   "metadata": {
    "execution": {
     "iopub.execute_input": "2023-03-01T16:27:55.384040Z",
     "iopub.status.busy": "2023-03-01T16:27:55.383723Z",
     "iopub.status.idle": "2023-03-01T16:27:55.393883Z",
     "shell.execute_reply": "2023-03-01T16:27:55.391963Z",
     "shell.execute_reply.started": "2023-03-01T16:27:55.384012Z"
    }
   },
   "outputs": [],
   "source": [
    "# создаём вспомогательные методы для хранения лучших метрик\n",
    "dict_score = {} # переменная для хранения метрик\n",
    "\n",
    "def best_score(classifier_name, score, method):\n",
    "    \"\"\"\n",
    "    Сохранение лучшей метрики для метода\n",
    "    \n",
    "    Параметры:\n",
    "    ----------\n",
    "    classifier_name: string - имя классификатора\n",
    "    score: float - значение метрики\n",
    "    method: string - метод или группа в рамках, которой производится вычисление \n",
    "    \"\"\"\n",
    "    item = dict_score.get(method)\n",
    "\n",
    "    if item:\n",
    "        if score > item[1]:\n",
    "            dict_score[method] = [classifier_name, score]\n",
    "    else:\n",
    "        dict_score[method] = [classifier_name, score]\n",
    "        \n",
    "def get_best_score(method):\n",
    "    \"\"\"\n",
    "    Получение лучшей метрики метода\n",
    "    \n",
    "    Параметры:\n",
    "    ----------\n",
    "    method: string - метод или группа в рамках, которой производится вычисление \n",
    "    \n",
    "    Результаты\n",
    "    ----------\n",
    "    classifier_name: string - имя классификатора\n",
    "    score: float - значение метрики\n",
    "    \"\"\"\n",
    "    item = dict_score.get(method)\n",
    "    if item:\n",
    "        return item[0], item[1]\n",
    "    else:\n",
    "        return 'unknown', 0.0\n",
    "\n",
    "def info_best_score(method):\n",
    "    \"\"\"\n",
    "    Вывод информации о наилучшей метрики\n",
    "    \n",
    "    Параметры:\n",
    "    ----------\n",
    "    method: string - метод или группа в рамках, которой производится вычисление \n",
    "    \"\"\"\n",
    "    classifier_name, score = get_best_score(method) \n",
    "    print(f'Вывод: наилучшую метрику AUC-ROC показал классификатор {classifier_name} со значением {round(score, 3)}')"
   ]
  },
  {
   "cell_type": "code",
   "execution_count": null,
   "metadata": {
    "execution": {
     "iopub.execute_input": "2023-03-01T16:27:55.395631Z",
     "iopub.status.busy": "2023-03-01T16:27:55.395306Z",
     "iopub.status.idle": "2023-03-01T16:27:55.413399Z",
     "shell.execute_reply": "2023-03-01T16:27:55.412573Z",
     "shell.execute_reply.started": "2023-03-01T16:27:55.395603Z"
    }
   },
   "outputs": [],
   "source": [
    "# создаём вспомогательные методы для анализа качества моделей DecisionTreeClassifier\n",
    "def decisionTreeClassifierScore(features_train, target_train, features_valid, target_valid, max_depth=20, depth_step=1):\n",
    "    \"\"\"Поиск оптимального качества модели DecisionTreeClassifier\n",
    "    \n",
    "    Параметры:\n",
    "    ----------\n",
    "    features_train: DataFrame - обучающая выборка\n",
    "    target_train: DataFrame - целевой признак обучающей выборки\n",
    "    features_valid: DataFrame - валидационная выборка\n",
    "    target_valid: DataFrame - целевой признак валидационной выборки\n",
    "    max_depth: int, default=20 - глубина обучения\n",
    "    depth_step: int - шаг\n",
    "    \n",
    "    Результаты\n",
    "    ----------\n",
    "    best_auc_roc_score: array - метрика AUC-ROC\n",
    "    chart_data: array - данные для построения графика\n",
    "    \"\"\"\n",
    "\n",
    "    best_auc_roc_score = [0, 0] # AUC-ROC и Глубина\n",
    "    chart_data = []\n",
    "    with tqdm(total=int(max_depth / depth_step) - 1) as pbar:\n",
    "        for depth in range(1, max_depth, depth_step):\n",
    "            model = DecisionTreeClassifier(random_state=12345, max_depth=depth)\n",
    "            model.fit(features_train, target_train)\n",
    "\n",
    "            probabilities_valid = model.predict_proba(features_valid)\n",
    "            auc_roc = roc_auc_score(target_valid, probabilities_valid[:, 1])\n",
    "\n",
    "            chart_data.append([depth, auc_roc])\n",
    "\n",
    "            if auc_roc > best_auc_roc_score[0]:\n",
    "                best_auc_roc_score = [auc_roc, depth]\n",
    "                \n",
    "            pbar.update(1)\n",
    "            \n",
    "    return best_auc_roc_score, chart_data\n",
    "\n",
    "def decisionTreeClassifierChart(data):\n",
    "    \"\"\"Построение визуального графика для просмотра качества модели DecisionTreeClassifier\n",
    "    \n",
    "    Параметры:\n",
    "    ----------\n",
    "    data: array - массив данных из трёх колонок: max_depth, AUC-ROC\n",
    "    \"\"\"\n",
    "    \n",
    "    df = pd.DataFrame(data, columns=['max_depth', 'auc_roc'])\n",
    "    plt.title('Распределение метрик качества')\n",
    "    plt.xlabel('Глубина обучения')\n",
    "    plt.ylabel('Значение метрики')\n",
    "    plt.plot(df['max_depth'], df['auc_roc'], label = \"AUC-ROC\")\n",
    "    plt.legend()\n",
    "    plt.show()\n",
    "\n",
    "def decisionTreeClassifierInfo(auc_roc_score):\n",
    "    \"\"\"Вывод\n",
    "    \n",
    "    Параметры:\n",
    "    ----------\n",
    "    auc_roc_score: array - показатели для AUC-ROC \n",
    "    \"\"\"\n",
    "    print(f'''Для классификатора DecisionTreeClassifier:\n",
    " - лучшее качество AUC-ROC равно {round(auc_roc_score[0], 3)}, которое было найдено при гиперпараметре max_depth равном {auc_roc_score[1]}.''')"
   ]
  },
  {
   "cell_type": "code",
   "execution_count": null,
   "metadata": {
    "execution": {
     "iopub.execute_input": "2023-03-01T16:27:55.415017Z",
     "iopub.status.busy": "2023-03-01T16:27:55.414566Z",
     "iopub.status.idle": "2023-03-01T16:27:55.438876Z",
     "shell.execute_reply": "2023-03-01T16:27:55.437092Z",
     "shell.execute_reply.started": "2023-03-01T16:27:55.414989Z"
    }
   },
   "outputs": [],
   "source": [
    "# создаём вспомогательные методы для анализа качества моделей RandomForestClassifier\n",
    "\n",
    "def randomForestClassifierScore(features_train, target_train, features_valid, target_valid, max_depth=10, n_estimators=30, step=2):\n",
    "    \"\"\"Поиск оптимального качества модели RandomForestClassifier\n",
    "    \n",
    "    Параметры:\n",
    "    ----------\n",
    "    features_train: DataFrame - обучающая выборка\n",
    "    target_train: DataFrame - целевой признак обучающей выборки\n",
    "    features_valid: DataFrame - валидационная выборка\n",
    "    target_valid: DataFrame - целевой признак валидационной выборки\n",
    "    max_depth: int, default=10 - глубина обучения\n",
    "    n_estimators: int, default=30 - количество лесов\n",
    "    step: int - шаг\n",
    "    \n",
    "    Результаты\n",
    "    ----------\n",
    "    best_auc_roc_score: array - метрика AUC-ROC\n",
    "    auc_roc_chart_data: array - данные для построения графика по метрике AUC-ROC\n",
    "    \"\"\"\n",
    "    \n",
    "    best_auc_roc_score = [0, 0, 0] # AUC-ROC, Глубина и леса\n",
    "    auc_roc_chart_data = []\n",
    "    \n",
    "    estimators_len = int(n_estimators / step) - 1\n",
    "    if estimators_len <= 0:\n",
    "        estimators_len = 1\n",
    "    \n",
    "    with tqdm(total=estimators_len * (int(max_depth / step) - 1)) as pbar:\n",
    "        for est in reversed(range(1, n_estimators, step)):\n",
    "            auc_roc_data = []\n",
    "\n",
    "            for depth in range(1, max_depth, step):\n",
    "                model = RandomForestClassifier(random_state=12345, n_estimators=est, max_depth=depth)\n",
    "                model.fit(features_train, target_train)\n",
    "\n",
    "                probabilities_valid = model.predict_proba(features_valid)\n",
    "                auc_roc = roc_auc_score(target_valid, probabilities_valid[:, 1])\n",
    "\n",
    "                if auc_roc > best_auc_roc_score[0]:\n",
    "                    best_auc_roc_score = [auc_roc, depth, est]\n",
    "\n",
    "                auc_roc_data.append(auc_roc)\n",
    "                \n",
    "                pbar.update(1)\n",
    "\n",
    "            auc_roc_chart_data.append(auc_roc_data)\n",
    "\n",
    "    return best_auc_roc_score, auc_roc_chart_data\n",
    "\n",
    "def randomForestClassifierChart(auc_roc_data, max_depth=10, n_estimators=30, step=2):\n",
    "    \"\"\"Построение визуального графика для просмотра качества модели RandomForestClassifier\n",
    "    \n",
    "    Параметры:\n",
    "    ----------\n",
    "    auc_roc_data: array - массив данных для метрики AUC-ROC\n",
    "    \"\"\"\n",
    "    \n",
    "    fig, axs = plt.subplots(figsize=(20, 6)) \n",
    "\n",
    "    df = pd.DataFrame(auc_roc_data, index=list(reversed(range(1, n_estimators, step))), columns=list(range(1, max_depth, step)))\n",
    "    sbn.heatmap(df, ax=axs)\n",
    "    axs.set_title('Распределение метрики AUC-ROC')\n",
    "    axs.set_xlabel('Глубина обучения')\n",
    "    axs.set_ylabel('Количество деревьев')\n",
    "\n",
    "    plt.show()\n",
    "\n",
    "def randomForestClassifierInfo(auc_roc_score):\n",
    "    \"\"\"Вывод для модели RandomForestClassifier\n",
    "    \n",
    "    Параметры:\n",
    "    ----------\n",
    "    auc_roc_score: array - показатели для AUC-ROC \n",
    "    \"\"\"\n",
    "    print(f'''Для классификатора RandomForestClassifier:\n",
    " - лучшее качество AUC-ROC равно {round(auc_roc_score[0], 3)}, которое было найдено при гиперпараметрах n_estimators равном {round(auc_roc_score[2], 3)} и max_depth равном {auc_roc_score[1]}.''')"
   ]
  },
  {
   "cell_type": "code",
   "execution_count": null,
   "metadata": {
    "execution": {
     "iopub.execute_input": "2023-03-01T16:27:55.441419Z",
     "iopub.status.busy": "2023-03-01T16:27:55.440962Z",
     "iopub.status.idle": "2023-03-01T16:27:55.459492Z",
     "shell.execute_reply": "2023-03-01T16:27:55.458114Z",
     "shell.execute_reply.started": "2023-03-01T16:27:55.441383Z"
    }
   },
   "outputs": [],
   "source": [
    "# создаём вспомогательные методы для анализа качества моделей LogisticRegression\n",
    "\n",
    "def logisticRegressionScore(features_train, target_train, features_valid, target_valid, max_iter=1000):\n",
    "    \"\"\"Поиск оптимального качества модели LogisticRegression\n",
    "    \n",
    "    Параметры:\n",
    "    ----------\n",
    "    features_train: DataFrame - обучающая выборка\n",
    "    target_train: DataFrame - целевой признак обучающей выборки\n",
    "    features_valid: DataFrame - валидационная выборка\n",
    "    target_valid: DataFrame - целевой признак валидационной выборки\n",
    "    \n",
    "    Результаты\n",
    "    ----------\n",
    "    best_auc_roc_score: int - метрика AUC-ROC\n",
    "    \"\"\"\n",
    "    \n",
    "    best_auc_roc_score = 0 # AUC-ROC\n",
    "    \n",
    "    model = LogisticRegression(random_state=12345, solver='liblinear', max_iter=max_iter)\n",
    "    model.fit(features_train, target_train)\n",
    "\n",
    "    probabilities_valid = model.predict_proba(features_valid)\n",
    "    best_auc_roc_score = roc_auc_score(target_valid, probabilities_valid[:, 1])\n",
    "\n",
    "    return best_auc_roc_score\n",
    "\n",
    "def logisticRegressionInfo(auc_roc_score):\n",
    "    \"\"\"Вывод для модели LogisticRegression\n",
    "    \n",
    "    Параметры:\n",
    "    ----------\n",
    "    auc_roc_score: array - показатели для AUC-ROC \n",
    "    \"\"\"\n",
    "    print(f'''Для классификатора LogisticRegression:\n",
    " - лучшее качество AUC-ROC равно {round(auc_roc_score, 3)}.''')"
   ]
  },
  {
   "cell_type": "code",
   "execution_count": null,
   "metadata": {
    "execution": {
     "iopub.execute_input": "2023-03-01T16:27:55.462223Z",
     "iopub.status.busy": "2023-03-01T16:27:55.461146Z",
     "iopub.status.idle": "2023-03-01T16:27:55.487321Z",
     "shell.execute_reply": "2023-03-01T16:27:55.486287Z",
     "shell.execute_reply.started": "2023-03-01T16:27:55.462183Z"
    }
   },
   "outputs": [],
   "source": [
    "df.info()"
   ]
  },
  {
   "cell_type": "code",
   "execution_count": null,
   "metadata": {
    "execution": {
     "iopub.execute_input": "2023-03-01T16:27:55.501902Z",
     "iopub.status.busy": "2023-03-01T16:27:55.501306Z",
     "iopub.status.idle": "2023-03-01T16:27:55.520560Z",
     "shell.execute_reply": "2023-03-01T16:27:55.518665Z",
     "shell.execute_reply.started": "2023-03-01T16:27:55.501870Z"
    }
   },
   "outputs": [],
   "source": [
    "# разделим выборки\n",
    "df_train = df.loc[df['is_train'] == 1]\n",
    "df_test = df.loc[df['is_train'] == 0]"
   ]
  },
  {
   "cell_type": "code",
   "execution_count": null,
   "metadata": {
    "execution": {
     "iopub.execute_input": "2023-03-01T16:27:55.522403Z",
     "iopub.status.busy": "2023-03-01T16:27:55.522029Z",
     "iopub.status.idle": "2023-03-01T16:27:55.538253Z",
     "shell.execute_reply": "2023-03-01T16:27:55.536427Z",
     "shell.execute_reply.started": "2023-03-01T16:27:55.522372Z"
    }
   },
   "outputs": [],
   "source": [
    "df_train.info()"
   ]
  },
  {
   "cell_type": "code",
   "execution_count": null,
   "metadata": {
    "execution": {
     "iopub.execute_input": "2023-03-01T16:27:55.540219Z",
     "iopub.status.busy": "2023-03-01T16:27:55.539862Z",
     "iopub.status.idle": "2023-03-01T16:27:55.555831Z",
     "shell.execute_reply": "2023-03-01T16:27:55.554619Z",
     "shell.execute_reply.started": "2023-03-01T16:27:55.540191Z"
    }
   },
   "outputs": [],
   "source": [
    "df_train.head()"
   ]
  },
  {
   "cell_type": "code",
   "execution_count": null,
   "metadata": {
    "execution": {
     "iopub.execute_input": "2023-03-01T16:27:55.557933Z",
     "iopub.status.busy": "2023-03-01T16:27:55.556919Z",
     "iopub.status.idle": "2023-03-01T16:27:55.612117Z",
     "shell.execute_reply": "2023-03-01T16:27:55.611169Z",
     "shell.execute_reply.started": "2023-03-01T16:27:55.557867Z"
    }
   },
   "outputs": [],
   "source": [
    "df_train.corr()"
   ]
  },
  {
   "cell_type": "code",
   "execution_count": null,
   "metadata": {
    "execution": {
     "iopub.execute_input": "2023-03-01T16:27:55.613586Z",
     "iopub.status.busy": "2023-03-01T16:27:55.613306Z",
     "iopub.status.idle": "2023-03-01T16:27:55.621261Z",
     "shell.execute_reply": "2023-03-01T16:27:55.619704Z",
     "shell.execute_reply.started": "2023-03-01T16:27:55.613557Z"
    }
   },
   "outputs": [],
   "source": [
    "drop_columns = ['is_train', 'is_healthy', 'is_cardio']"
   ]
  },
  {
   "cell_type": "code",
   "execution_count": null,
   "metadata": {
    "execution": {
     "iopub.execute_input": "2023-03-01T16:27:55.624431Z",
     "iopub.status.busy": "2023-03-01T16:27:55.622354Z",
     "iopub.status.idle": "2023-03-01T16:27:55.638304Z",
     "shell.execute_reply": "2023-03-01T16:27:55.637113Z",
     "shell.execute_reply.started": "2023-03-01T16:27:55.624372Z"
    }
   },
   "outputs": [],
   "source": [
    "features = df_train.drop(drop_columns, axis=1)\n",
    "target = df_train['is_cardio']   "
   ]
  },
  {
   "cell_type": "code",
   "execution_count": null,
   "metadata": {
    "execution": {
     "iopub.execute_input": "2023-03-01T16:27:55.639951Z",
     "iopub.status.busy": "2023-03-01T16:27:55.639623Z",
     "iopub.status.idle": "2023-03-01T16:27:55.667624Z",
     "shell.execute_reply": "2023-03-01T16:27:55.665696Z",
     "shell.execute_reply.started": "2023-03-01T16:27:55.639921Z"
    }
   },
   "outputs": [],
   "source": [
    "features.info()"
   ]
  },
  {
   "cell_type": "code",
   "execution_count": null,
   "metadata": {
    "execution": {
     "iopub.execute_input": "2023-03-01T16:27:55.670002Z",
     "iopub.status.busy": "2023-03-01T16:27:55.669067Z",
     "iopub.status.idle": "2023-03-01T16:27:55.689426Z",
     "shell.execute_reply": "2023-03-01T16:27:55.688203Z",
     "shell.execute_reply.started": "2023-03-01T16:27:55.669969Z"
    }
   },
   "outputs": [],
   "source": [
    "# делим для валидации\n",
    "features_train, features_valid, target_train, target_valid = train_test_split(features, target, test_size=0.4, random_state=12345)\n",
    "# делим для тестирования \n",
    "features_valid, features_test, target_valid, target_test = train_test_split(features_valid, target_valid, test_size=0.5, random_state=12345)"
   ]
  },
  {
   "cell_type": "code",
   "execution_count": null,
   "metadata": {
    "execution": {
     "iopub.execute_input": "2023-03-01T16:27:55.693027Z",
     "iopub.status.busy": "2023-03-01T16:27:55.692634Z",
     "iopub.status.idle": "2023-03-01T16:28:36.689687Z",
     "shell.execute_reply": "2023-03-01T16:28:36.688728Z",
     "shell.execute_reply.started": "2023-03-01T16:27:55.692996Z"
    },
    "scrolled": false
   },
   "outputs": [],
   "source": [
    "print('\\nDecisionTreeClassifier')\n",
    "\n",
    "# используем созданный ранее метод\n",
    "dtc_best_auc_roc_score, chart_data = decisionTreeClassifierScore(features_train, target_train, features_valid, target_valid, max_depth=20, depth_step=1)\n",
    "# строим график\n",
    "decisionTreeClassifierChart(chart_data)\n",
    "\n",
    "\n",
    "# сохраняем лучший результат\n",
    "best_score('DecisionTreeClassifier', dtc_best_auc_roc_score[0], 'Базовый')\n",
    "# вывод информации\n",
    "decisionTreeClassifierInfo(dtc_best_auc_roc_score)\n",
    "\n",
    "print('\\nRandomForestClassifier')\n",
    "\n",
    "# используем созданный ранее метод\n",
    "rfc_best_auc_roc_score, auc_roc_chart_data = randomForestClassifierScore(features_train, target_train, features_valid, target_valid, max_depth=10, n_estimators=19, step=1)\n",
    "# строим график\n",
    "randomForestClassifierChart(auc_roc_chart_data, max_depth=10, n_estimators=19, step=1)\n",
    "\n",
    "# сохраняем лучший результат\n",
    "best_score('RandomForestClassifier', rfc_best_auc_roc_score[0], 'Базовый')\n",
    "# вывод информации\n",
    "randomForestClassifierInfo(rfc_best_auc_roc_score)\n",
    "\n",
    "print('\\nLogisticRegression')\n",
    "\n",
    "scaler = StandardScaler()\n",
    "features_train_ss = features_train.copy()\n",
    "features_valid_ss = features_valid.copy()\n",
    "\n",
    "scale_columns = ['age', 'weight', 'height', 'ap_hi', 'ap_lo', 'gluc', 'cholesterol']\n",
    "\n",
    "scaler.fit(features_train_ss.loc[:, scale_columns])\n",
    "features_train_ss[scale_columns] = scaler.transform(features_train_ss[scale_columns])\n",
    "features_valid_ss[scale_columns] = scaler.transform(features_valid_ss[scale_columns])\n",
    "\n",
    "lr_best_auc_roc_score = logisticRegressionScore(features_train_ss, target_train, features_valid_ss, target_valid)\n",
    "\n",
    "# сохраняем лучший результат\n",
    "best_score('LogisticRegression', lr_best_auc_roc_score, 'Базовый')\n",
    "# вывод информации\n",
    "logisticRegressionInfo(lr_best_auc_roc_score)\n",
    "\n",
    "print('\\n')\n",
    "info_best_score('Базовый') "
   ]
  },
  {
   "cell_type": "markdown",
   "metadata": {},
   "source": [
    "#### Тестирование модели"
   ]
  },
  {
   "cell_type": "code",
   "execution_count": null,
   "metadata": {
    "execution": {
     "iopub.execute_input": "2023-03-01T16:28:36.691238Z",
     "iopub.status.busy": "2023-03-01T16:28:36.690894Z",
     "iopub.status.idle": "2023-03-01T16:28:36.698967Z",
     "shell.execute_reply": "2023-03-01T16:28:36.697924Z",
     "shell.execute_reply.started": "2023-03-01T16:28:36.691195Z"
    }
   },
   "outputs": [],
   "source": [
    "# получаем лучшую метрику\n",
    "best_method = 'unknown'\n",
    "best_classifier = 'unknown'\n",
    "best_score_method = 0\n",
    "\n",
    "for method in dict_score:\n",
    "    item = get_best_score(method)\n",
    "    if item[1] > best_score_method:\n",
    "        best_score_method = item[1]\n",
    "        best_classifier = item[0]\n",
    "        best_method = method\n",
    "        \n",
    "print(f'Лучшую метрику ROC-AUC {round(best_score_method, 3)} показал метод \"{best_method}\" с классификатором {best_classifier}.')"
   ]
  },
  {
   "cell_type": "code",
   "execution_count": null,
   "metadata": {
    "execution": {
     "iopub.execute_input": "2023-03-01T16:28:36.700887Z",
     "iopub.status.busy": "2023-03-01T16:28:36.700463Z",
     "iopub.status.idle": "2023-03-01T16:28:36.716749Z",
     "shell.execute_reply": "2023-03-01T16:28:36.715784Z",
     "shell.execute_reply.started": "2023-03-01T16:28:36.700854Z"
    }
   },
   "outputs": [],
   "source": [
    "MAX_DEPTH=8\n",
    "N_ESTIMATORS=16"
   ]
  },
  {
   "cell_type": "code",
   "execution_count": null,
   "metadata": {
    "execution": {
     "iopub.execute_input": "2023-03-01T16:28:36.718342Z",
     "iopub.status.busy": "2023-03-01T16:28:36.717916Z",
     "iopub.status.idle": "2023-03-01T16:28:37.226961Z",
     "shell.execute_reply": "2023-03-01T16:28:37.225781Z",
     "shell.execute_reply.started": "2023-03-01T16:28:36.718304Z"
    }
   },
   "outputs": [],
   "source": [
    "model = RandomForestClassifier(random_state=12345, max_depth=MAX_DEPTH, n_estimators=N_ESTIMATORS)\n",
    "model.fit(features_train, target_train)\n",
    "\n",
    "probabilities_valid = model.predict_proba(features_test)\n",
    "auc_roc = roc_auc_score(target_test, probabilities_valid[:, 1])\n",
    "\n",
    "print(f'AUC-ROC =', auc_roc)\n",
    "\n",
    "print(classification_report(target_test, model.predict(features_test)))"
   ]
  },
  {
   "cell_type": "code",
   "execution_count": null,
   "metadata": {
    "execution": {
     "iopub.execute_input": "2023-03-01T16:28:37.229250Z",
     "iopub.status.busy": "2023-03-01T16:28:37.228660Z",
     "iopub.status.idle": "2023-03-01T16:28:38.015487Z",
     "shell.execute_reply": "2023-03-01T16:28:38.013813Z",
     "shell.execute_reply.started": "2023-03-01T16:28:37.229204Z"
    }
   },
   "outputs": [],
   "source": [
    "# обучим на всей выборке\n",
    "features = df_train.drop(drop_columns, axis=1)\n",
    "target = df_train['is_cardio']\n",
    "\n",
    "cls = RandomForestClassifier(random_state=12345, max_depth=MAX_DEPTH, n_estimators=N_ESTIMATORS)\n",
    "cls.fit(features, target)"
   ]
  },
  {
   "cell_type": "code",
   "execution_count": null,
   "metadata": {
    "execution": {
     "iopub.execute_input": "2023-03-01T16:28:38.017016Z",
     "iopub.status.busy": "2023-03-01T16:28:38.016728Z",
     "iopub.status.idle": "2023-03-01T16:28:38.125920Z",
     "shell.execute_reply": "2023-03-01T16:28:38.125133Z",
     "shell.execute_reply.started": "2023-03-01T16:28:38.016992Z"
    }
   },
   "outputs": [],
   "source": [
    "features = df_test.drop(drop_columns, axis=1)\n",
    "\n",
    "predictions = cls.predict(features)\n",
    "\n",
    "to_submit = pd.DataFrame(index=df_test.index)\n",
    "to_submit['cardio'] = predictions\n",
    "to_submit['cardio'] = to_submit['cardio'].astype('float16')\n",
    "to_submit.to_csv('submission.csv')\n",
    "print(to_submit.shape)\n",
    "\n",
    "dump(cls, 'heart.model')"
   ]
  },
  {
   "cell_type": "code",
   "execution_count": null,
   "metadata": {
    "execution": {
     "iopub.execute_input": "2023-03-01T16:28:38.134671Z",
     "iopub.status.busy": "2023-03-01T16:28:38.134014Z",
     "iopub.status.idle": "2023-03-01T16:28:38.146215Z",
     "shell.execute_reply": "2023-03-01T16:28:38.144471Z",
     "shell.execute_reply.started": "2023-03-01T16:28:38.134636Z"
    }
   },
   "outputs": [],
   "source": [
    "to_submit.head()"
   ]
  },
  {
   "cell_type": "code",
   "execution_count": null,
   "metadata": {},
   "outputs": [],
   "source": []
  }
 ],
 "metadata": {
  "kernelspec": {
   "display_name": "Python 3 (ipykernel)",
   "language": "python",
   "name": "python3"
  },
  "language_info": {
   "codemirror_mode": {
    "name": "ipython",
    "version": 3
   },
   "file_extension": ".py",
   "mimetype": "text/x-python",
   "name": "python",
   "nbconvert_exporter": "python",
   "pygments_lexer": "ipython3",
   "version": "3.10.10"
  },
  "toc": {
   "base_numbering": 1,
   "nav_menu": {},
   "number_sections": true,
   "sideBar": true,
   "skip_h1_title": false,
   "title_cell": "Table of Contents",
   "title_sidebar": "Contents",
   "toc_cell": false,
   "toc_position": {},
   "toc_section_display": true,
   "toc_window_display": false
  },
  "vscode": {
   "interpreter": {
    "hash": "071473d9fcf86941ddc7d11bfe70a3354417af3583f81502071290bbcaf92fa3"
   }
  }
 },
 "nbformat": 4,
 "nbformat_minor": 4
}
